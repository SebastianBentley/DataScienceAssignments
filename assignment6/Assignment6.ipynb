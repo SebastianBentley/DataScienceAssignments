{
 "cells": [
  {
   "cell_type": "markdown",
   "id": "58789479",
   "metadata": {},
   "source": [
    "# Assigment 6 - Project walkthrough with PCA\n",
    "*By Sebastian Bentley - cph-sb287*\n",
    "\n",
    "This projects follows a data science walktrough, including PCA, using the Iris data set."
   ]
  },
  {
   "cell_type": "markdown",
   "id": "b556527b",
   "metadata": {},
   "source": [
    "## 1. Downloading and understanding the data"
   ]
  },
  {
   "cell_type": "code",
   "execution_count": 1,
   "id": "e0d19fe9",
   "metadata": {},
   "outputs": [],
   "source": [
    "import pandas as pd\n",
    "\n",
    "url = \"https://archive.ics.uci.edu/ml/machine-learning-databases/iris/iris.data\"\n",
    "# load dataset into Pandas DataFrame\n",
    "df = pd.read_csv(url, names=['sepal length','sepal width','petal length','petal width','target'])"
   ]
  },
  {
   "cell_type": "code",
   "execution_count": 2,
   "id": "8c5db684",
   "metadata": {},
   "outputs": [
    {
     "data": {
      "text/html": [
       "<div>\n",
       "<style scoped>\n",
       "    .dataframe tbody tr th:only-of-type {\n",
       "        vertical-align: middle;\n",
       "    }\n",
       "\n",
       "    .dataframe tbody tr th {\n",
       "        vertical-align: top;\n",
       "    }\n",
       "\n",
       "    .dataframe thead th {\n",
       "        text-align: right;\n",
       "    }\n",
       "</style>\n",
       "<table border=\"1\" class=\"dataframe\">\n",
       "  <thead>\n",
       "    <tr style=\"text-align: right;\">\n",
       "      <th></th>\n",
       "      <th>sepal length</th>\n",
       "      <th>sepal width</th>\n",
       "      <th>petal length</th>\n",
       "      <th>petal width</th>\n",
       "      <th>target</th>\n",
       "    </tr>\n",
       "  </thead>\n",
       "  <tbody>\n",
       "    <tr>\n",
       "      <th>0</th>\n",
       "      <td>5.1</td>\n",
       "      <td>3.5</td>\n",
       "      <td>1.4</td>\n",
       "      <td>0.2</td>\n",
       "      <td>Iris-setosa</td>\n",
       "    </tr>\n",
       "    <tr>\n",
       "      <th>1</th>\n",
       "      <td>4.9</td>\n",
       "      <td>3.0</td>\n",
       "      <td>1.4</td>\n",
       "      <td>0.2</td>\n",
       "      <td>Iris-setosa</td>\n",
       "    </tr>\n",
       "    <tr>\n",
       "      <th>2</th>\n",
       "      <td>4.7</td>\n",
       "      <td>3.2</td>\n",
       "      <td>1.3</td>\n",
       "      <td>0.2</td>\n",
       "      <td>Iris-setosa</td>\n",
       "    </tr>\n",
       "    <tr>\n",
       "      <th>3</th>\n",
       "      <td>4.6</td>\n",
       "      <td>3.1</td>\n",
       "      <td>1.5</td>\n",
       "      <td>0.2</td>\n",
       "      <td>Iris-setosa</td>\n",
       "    </tr>\n",
       "    <tr>\n",
       "      <th>4</th>\n",
       "      <td>5.0</td>\n",
       "      <td>3.6</td>\n",
       "      <td>1.4</td>\n",
       "      <td>0.2</td>\n",
       "      <td>Iris-setosa</td>\n",
       "    </tr>\n",
       "  </tbody>\n",
       "</table>\n",
       "</div>"
      ],
      "text/plain": [
       "   sepal length  sepal width  petal length  petal width       target\n",
       "0           5.1          3.5           1.4          0.2  Iris-setosa\n",
       "1           4.9          3.0           1.4          0.2  Iris-setosa\n",
       "2           4.7          3.2           1.3          0.2  Iris-setosa\n",
       "3           4.6          3.1           1.5          0.2  Iris-setosa\n",
       "4           5.0          3.6           1.4          0.2  Iris-setosa"
      ]
     },
     "execution_count": 2,
     "metadata": {},
     "output_type": "execute_result"
    }
   ],
   "source": [
    "#To get an understanding of the data I am working with, I am viewing the head of the data.\n",
    "df.head()"
   ]
  },
  {
   "cell_type": "code",
   "execution_count": 3,
   "id": "77aca478",
   "metadata": {},
   "outputs": [
    {
     "name": "stdout",
     "output_type": "stream",
     "text": [
      "<class 'pandas.core.frame.DataFrame'>\n",
      "RangeIndex: 150 entries, 0 to 149\n",
      "Data columns (total 5 columns):\n",
      " #   Column        Non-Null Count  Dtype  \n",
      "---  ------        --------------  -----  \n",
      " 0   sepal length  150 non-null    float64\n",
      " 1   sepal width   150 non-null    float64\n",
      " 2   petal length  150 non-null    float64\n",
      " 3   petal width   150 non-null    float64\n",
      " 4   target        150 non-null    object \n",
      "dtypes: float64(4), object(1)\n",
      "memory usage: 6.0+ KB\n"
     ]
    }
   ],
   "source": [
    "#To understand types and size of the dataset, I am using the info() function.\n",
    "df.info()"
   ]
  },
  {
   "cell_type": "code",
   "execution_count": 4,
   "id": "01837e8e",
   "metadata": {},
   "outputs": [
    {
     "data": {
      "text/plain": [
       "Iris-setosa        50\n",
       "Iris-versicolor    50\n",
       "Iris-virginica     50\n",
       "Name: target, dtype: int64"
      ]
     },
     "execution_count": 4,
     "metadata": {},
     "output_type": "execute_result"
    }
   ],
   "source": [
    "#Info() Shows that we have one column of categorical data. Let's see how many different categries there are.\n",
    "df['target'].value_counts()"
   ]
  },
  {
   "cell_type": "code",
   "execution_count": 5,
   "id": "fcf4a9c5",
   "metadata": {},
   "outputs": [
    {
     "data": {
      "text/html": [
       "<div>\n",
       "<style scoped>\n",
       "    .dataframe tbody tr th:only-of-type {\n",
       "        vertical-align: middle;\n",
       "    }\n",
       "\n",
       "    .dataframe tbody tr th {\n",
       "        vertical-align: top;\n",
       "    }\n",
       "\n",
       "    .dataframe thead th {\n",
       "        text-align: right;\n",
       "    }\n",
       "</style>\n",
       "<table border=\"1\" class=\"dataframe\">\n",
       "  <thead>\n",
       "    <tr style=\"text-align: right;\">\n",
       "      <th></th>\n",
       "      <th>sepal length</th>\n",
       "      <th>sepal width</th>\n",
       "      <th>petal length</th>\n",
       "      <th>petal width</th>\n",
       "    </tr>\n",
       "  </thead>\n",
       "  <tbody>\n",
       "    <tr>\n",
       "      <th>count</th>\n",
       "      <td>150.000000</td>\n",
       "      <td>150.000000</td>\n",
       "      <td>150.000000</td>\n",
       "      <td>150.000000</td>\n",
       "    </tr>\n",
       "    <tr>\n",
       "      <th>mean</th>\n",
       "      <td>5.843333</td>\n",
       "      <td>3.054000</td>\n",
       "      <td>3.758667</td>\n",
       "      <td>1.198667</td>\n",
       "    </tr>\n",
       "    <tr>\n",
       "      <th>std</th>\n",
       "      <td>0.828066</td>\n",
       "      <td>0.433594</td>\n",
       "      <td>1.764420</td>\n",
       "      <td>0.763161</td>\n",
       "    </tr>\n",
       "    <tr>\n",
       "      <th>min</th>\n",
       "      <td>4.300000</td>\n",
       "      <td>2.000000</td>\n",
       "      <td>1.000000</td>\n",
       "      <td>0.100000</td>\n",
       "    </tr>\n",
       "    <tr>\n",
       "      <th>25%</th>\n",
       "      <td>5.100000</td>\n",
       "      <td>2.800000</td>\n",
       "      <td>1.600000</td>\n",
       "      <td>0.300000</td>\n",
       "    </tr>\n",
       "    <tr>\n",
       "      <th>50%</th>\n",
       "      <td>5.800000</td>\n",
       "      <td>3.000000</td>\n",
       "      <td>4.350000</td>\n",
       "      <td>1.300000</td>\n",
       "    </tr>\n",
       "    <tr>\n",
       "      <th>75%</th>\n",
       "      <td>6.400000</td>\n",
       "      <td>3.300000</td>\n",
       "      <td>5.100000</td>\n",
       "      <td>1.800000</td>\n",
       "    </tr>\n",
       "    <tr>\n",
       "      <th>max</th>\n",
       "      <td>7.900000</td>\n",
       "      <td>4.400000</td>\n",
       "      <td>6.900000</td>\n",
       "      <td>2.500000</td>\n",
       "    </tr>\n",
       "  </tbody>\n",
       "</table>\n",
       "</div>"
      ],
      "text/plain": [
       "       sepal length  sepal width  petal length  petal width\n",
       "count    150.000000   150.000000    150.000000   150.000000\n",
       "mean       5.843333     3.054000      3.758667     1.198667\n",
       "std        0.828066     0.433594      1.764420     0.763161\n",
       "min        4.300000     2.000000      1.000000     0.100000\n",
       "25%        5.100000     2.800000      1.600000     0.300000\n",
       "50%        5.800000     3.000000      4.350000     1.300000\n",
       "75%        6.400000     3.300000      5.100000     1.800000\n",
       "max        7.900000     4.400000      6.900000     2.500000"
      ]
     },
     "execution_count": 5,
     "metadata": {},
     "output_type": "execute_result"
    }
   ],
   "source": [
    "#Might aswell look at min, max, std and so on, using the describe method()\n",
    "df.describe()"
   ]
  },
  {
   "cell_type": "code",
   "execution_count": 6,
   "id": "d539892d",
   "metadata": {},
   "outputs": [
    {
     "data": {
      "text/plain": [
       "array([[<AxesSubplot:title={'center':'sepal length'}>,\n",
       "        <AxesSubplot:title={'center':'sepal width'}>],\n",
       "       [<AxesSubplot:title={'center':'petal length'}>,\n",
       "        <AxesSubplot:title={'center':'petal width'}>]], dtype=object)"
      ]
     },
     "execution_count": 6,
     "metadata": {},
     "output_type": "execute_result"
    },
    {
     "data": {
      "image/png": "[encoded data removed]",
      "text/plain": [
       "<Figure size 1440x1152 with 4 Axes>"
      ]
     },
     "metadata": {
      "needs_background": "light"
     },
     "output_type": "display_data"
    }
   ],
   "source": [
    "#Let's create a histogram, to get an idea of potentioal outliers, and knowlegde, by vizualising the data.\n",
    "df.hist(bins=50, figsize=(20, 16))"
   ]
  },
  {
   "cell_type": "markdown",
   "id": "e9f8994b",
   "metadata": {},
   "source": [
    "## 2. Splitting the data into test and train sets\n",
    "Can also be done using StratifiedShuffleSplit, but given the size of the dataset, train_test_split library seems fine."
   ]
  },
  {
   "cell_type": "code",
   "execution_count": 7,
   "id": "4efba594",
   "metadata": {},
   "outputs": [
    {
     "name": "stdout",
     "output_type": "stream",
     "text": [
      "120 train + 30 test\n"
     ]
    }
   ],
   "source": [
    "#We need to have a training and a test set, so we can train a model, and test it.\n",
    "#To do this, I am using a library to split the dataset into 80% training, and 20% test.\n",
    "from sklearn.model_selection import train_test_split\n",
    "train_set, test_set = train_test_split(df, test_size=0.2, random_state=42)\n",
    "print(len(train_set), \"train +\", len(test_set), \"test\")"
   ]
  },
  {
   "cell_type": "markdown",
   "id": "03bbae28",
   "metadata": {},
   "source": [
    "## 3. Discovering and vizualising the data to gain insights\n",
    "I'm highligting sepal length and sepal width, to see if there is a correlation width type of flower, and width/length of sepal."
   ]
  },
  {
   "cell_type": "code",
   "execution_count": 8,
   "id": "62c07973",
   "metadata": {},
   "outputs": [],
   "source": [
    "#Copy the trainging set into a new variable.\n",
    "iris = train_set.copy()\n",
    "iris_test = test_set.copy()"
   ]
  },
  {
   "cell_type": "code",
   "execution_count": 9,
   "id": "96214412",
   "metadata": {},
   "outputs": [
    {
     "data": {
      "text/plain": [
       "<AxesSubplot:xlabel='sepal length', ylabel='sepal width'>"
      ]
     },
     "execution_count": 9,
     "metadata": {},
     "output_type": "execute_result"
    },
    {
     "data": {
      "image/png": "[encoded data removed]",
      "text/plain": [
       "<Figure size 720x504 with 2 Axes>"
      ]
     },
     "metadata": {
      "needs_background": "light"
     },
     "output_type": "display_data"
    }
   ],
   "source": [
    "import matplotlib.pyplot as plt\n",
    "#alpha highlighst the density\n",
    "iris.plot(kind=\"scatter\", x=\"sepal length\", y=\"sepal width\", alpha=0.9, \n",
    "             s=iris[\"sepal length\"], label=\"sepal width\", figsize=(10,7), c=\"sepal width\",\n",
    "             cmap=plt.get_cmap(\"jet\"), colorbar=True)"
   ]
  },
  {
   "cell_type": "markdown",
   "id": "463adc38",
   "metadata": {},
   "source": [
    "## 4. Looking for correlations\n",
    "Time to find out if there are any correlations within the data, on sepal length."
   ]
  },
  {
   "cell_type": "code",
   "execution_count": 10,
   "id": "a5c7ad69",
   "metadata": {},
   "outputs": [
    {
     "data": {
      "text/plain": [
       "sepal length    1.000000\n",
       "petal length    0.862183\n",
       "petal width     0.801485\n",
       "sepal width    -0.097191\n",
       "Name: sepal length, dtype: float64"
      ]
     },
     "execution_count": 10,
     "metadata": {},
     "output_type": "execute_result"
    }
   ],
   "source": [
    "iris.corr()['sepal length'].sort_values(ascending=False)"
   ]
  },
  {
   "cell_type": "code",
   "execution_count": 11,
   "id": "a147bdfe",
   "metadata": {},
   "outputs": [
    {
     "data": {
      "text/plain": [
       "array([[<AxesSubplot:xlabel='sepal length', ylabel='sepal length'>,\n",
       "        <AxesSubplot:xlabel='petal length', ylabel='sepal length'>,\n",
       "        <AxesSubplot:xlabel='petal width', ylabel='sepal length'>],\n",
       "       [<AxesSubplot:xlabel='sepal length', ylabel='petal length'>,\n",
       "        <AxesSubplot:xlabel='petal length', ylabel='petal length'>,\n",
       "        <AxesSubplot:xlabel='petal width', ylabel='petal length'>],\n",
       "       [<AxesSubplot:xlabel='sepal length', ylabel='petal width'>,\n",
       "        <AxesSubplot:xlabel='petal length', ylabel='petal width'>,\n",
       "        <AxesSubplot:xlabel='petal width', ylabel='petal width'>]],\n",
       "      dtype=object)"
      ]
     },
     "execution_count": 11,
     "metadata": {},
     "output_type": "execute_result"
    },
    {
     "data": {
      "image/png": "[encoded data removed]",
      "text/plain": [
       "<Figure size 864x576 with 9 Axes>"
      ]
     },
     "metadata": {
      "needs_background": "light"
     },
     "output_type": "display_data"
    }
   ],
   "source": [
    "#We see a strong vorrelation on petal length and petal width, and very bad on sepal width.\n",
    "#Let's plot the strong correlations.\n",
    "from pandas.plotting import scatter_matrix\n",
    "attributes = [\"sepal length\",\"petal length\", \"petal width\"]\n",
    "scatter_matrix(iris[attributes], figsize=(12, 8))\n"
   ]
  },
  {
   "cell_type": "code",
   "execution_count": 12,
   "id": "ea024fe1",
   "metadata": {},
   "outputs": [
    {
     "data": {
      "text/plain": [
       "<AxesSubplot:xlabel='sepal length', ylabel='petal length'>"
      ]
     },
     "execution_count": 12,
     "metadata": {},
     "output_type": "execute_result"
    },
    {
     "data": {
      "image/png": "[encoded data removed]",
      "text/plain": [
       "<Figure size 432x288 with 1 Axes>"
      ]
     },
     "metadata": {
      "needs_background": "light"
     },
     "output_type": "display_data"
    }
   ],
   "source": [
    "#As we can see, there are many good correlations, however,\n",
    "#The most promising for sepal length, seems to be petal length\n",
    "iris.plot(kind=\"scatter\", x=\"sepal length\", y=\"petal length\", alpha=0.3)"
   ]
  },
  {
   "cell_type": "markdown",
   "id": "4711bbde",
   "metadata": {},
   "source": [
    "## 5. Preparing the data for machine learning"
   ]
  },
  {
   "cell_type": "markdown",
   "id": "cfd6802a",
   "metadata": {},
   "source": [
    "### 5.1 Data cleaning"
   ]
  },
  {
   "cell_type": "code",
   "execution_count": 13,
   "id": "e1c20066",
   "metadata": {},
   "outputs": [
    {
     "data": {
      "text/plain": [
       "sepal length    0\n",
       "sepal width     0\n",
       "petal length    0\n",
       "petal width     0\n",
       "target          0\n",
       "dtype: int64"
      ]
     },
     "execution_count": 13,
     "metadata": {},
     "output_type": "execute_result"
    }
   ],
   "source": [
    "#Checking for null values, in this case, there are 0 null values.\n",
    "iris.isna().sum()"
   ]
  },
  {
   "cell_type": "code",
   "execution_count": 14,
   "id": "fb2b38a0",
   "metadata": {},
   "outputs": [],
   "source": [
    "features = ['sepal length', 'sepal width', 'petal length', 'petal width']\n",
    "# Separating out the features\n",
    "x = iris.loc[:, features].values\n",
    "x_test = iris_test.loc[:, features].values\n",
    "# Separating out the target\n",
    "y = iris.loc[:,['target']].values"
   ]
  },
  {
   "cell_type": "code",
   "execution_count": 15,
   "id": "95e35e3a",
   "metadata": {},
   "outputs": [],
   "source": [
    "#One hot encoding of categoracal data 'Target', so it fits in a regressor algorythm\n",
    "from sklearn.preprocessing import OneHotEncoder\n",
    "import numpy as np\n",
    "encoder = OneHotEncoder()\n",
    "iris_cat_encoded = iris['target'].values\n",
    "iris_cat_1hot = encoder.fit_transform(np.array(iris_cat_encoded).reshape(-1,1))\n",
    "y = iris_cat_1hot.toarray()"
   ]
  },
  {
   "cell_type": "markdown",
   "id": "502c982b",
   "metadata": {},
   "source": [
    "## 6. Select and train a model\n",
    "The requrires use of RandomForesstRegressor. As seen on the correlation matrix, perhaps linearRegression had been a better option. It is also a possibility to use Grid Search, to programatically find the most optimal regressor."
   ]
  },
  {
   "cell_type": "code",
   "execution_count": 16,
   "id": "f6509be0",
   "metadata": {},
   "outputs": [
    {
     "data": {
      "text/plain": [
       "LinearRegression()"
      ]
     },
     "execution_count": 16,
     "metadata": {},
     "output_type": "execute_result"
    }
   ],
   "source": [
    "#Let's first see how a Linear regression model fits\n",
    "from sklearn.linear_model import LinearRegression\n",
    "from sklearn.metrics import mean_squared_error\n",
    "lin_reg = LinearRegression()\n",
    "lin_reg.fit(x, y)"
   ]
  },
  {
   "cell_type": "code",
   "execution_count": 17,
   "id": "f3f9c69c",
   "metadata": {},
   "outputs": [
    {
     "data": {
      "text/plain": [
       "0.30431021712460066"
      ]
     },
     "execution_count": 17,
     "metadata": {},
     "output_type": "execute_result"
    }
   ],
   "source": [
    "iris_predictions = lin_reg.predict(x)\n",
    "lin_mse = mean_squared_error(y, iris_predictions)\n",
    "lin_rmse = np.sqrt(lin_mse)\n",
    "lin_rmse #Not a great score, compared to random forest"
   ]
  },
  {
   "cell_type": "markdown",
   "id": "e73e8266",
   "metadata": {},
   "source": [
    "Linear regression did not find a great score, let's ttry with random forest regressor."
   ]
  },
  {
   "cell_type": "code",
   "execution_count": 18,
   "id": "0593dd9d",
   "metadata": {},
   "outputs": [],
   "source": [
    "#Now let's see it with a random forest regressor\n",
    "from sklearn.ensemble import RandomForestRegressor\n",
    "\n",
    "forest_reg = RandomForestRegressor()"
   ]
  },
  {
   "cell_type": "code",
   "execution_count": 19,
   "id": "55b18e64",
   "metadata": {},
   "outputs": [
    {
     "data": {
      "text/plain": [
       "RandomForestRegressor()"
      ]
     },
     "execution_count": 19,
     "metadata": {},
     "output_type": "execute_result"
    }
   ],
   "source": [
    "forest_reg.fit(x, y)"
   ]
  },
  {
   "cell_type": "code",
   "execution_count": 20,
   "id": "e0f857dd",
   "metadata": {},
   "outputs": [
    {
     "data": {
      "text/plain": [
       "0.06341223155757185"
      ]
     },
     "execution_count": 20,
     "metadata": {},
     "output_type": "execute_result"
    }
   ],
   "source": [
    "iris_prediction = forest_reg.predict(x)\n",
    "mse = mean_squared_error(y, iris_prediction)\n",
    "rmse = np.sqrt(mse)\n",
    "rmse"
   ]
  },
  {
   "cell_type": "markdown",
   "id": "2a1a3307",
   "metadata": {},
   "source": [
    "We can see that random forest regressor has a very low root mean squared error. Perhaps we overfitted the data. We will see later on, using the test set."
   ]
  },
  {
   "cell_type": "markdown",
   "id": "2f8d1fee",
   "metadata": {},
   "source": [
    "## 7. Using principal components (PCA)"
   ]
  },
  {
   "cell_type": "code",
   "execution_count": 21,
   "id": "1fa671ad",
   "metadata": {},
   "outputs": [],
   "source": [
    "#PCA projection to 2D\n",
    "from sklearn.decomposition import PCA\n",
    "pca = PCA(n_components=2)\n",
    "principalComponents = pca.fit_transform(x)\n",
    "principalDf = pd.DataFrame(data = principalComponents\n",
    "             , columns = ['principal component 1', 'principal component 2'])"
   ]
  },
  {
   "cell_type": "code",
   "execution_count": 22,
   "id": "632d2171",
   "metadata": {},
   "outputs": [],
   "source": [
    "#Concatenating DataFrame along axis = 1. finalDf is the final DataFrame before plotting the data.\n",
    "finalDf = pd.concat([principalDf, iris[['target']]], axis = 1)"
   ]
  },
  {
   "cell_type": "code",
   "execution_count": 23,
   "id": "872dd47b",
   "metadata": {},
   "outputs": [
    {
     "data": {
      "image/png": "[encoded data removed]",
      "text/plain": [
       "<Figure size 576x576 with 1 Axes>"
      ]
     },
     "metadata": {
      "needs_background": "light"
     },
     "output_type": "display_data"
    }
   ],
   "source": [
    "import matplotlib.pyplot as plt\n",
    "fig = plt.figure(figsize = (8,8))\n",
    "ax = fig.add_subplot(1,1,1) \n",
    "ax.set_xlabel('Principal Component 1', fontsize = 15)\n",
    "ax.set_ylabel('Principal Component 2', fontsize = 15)\n",
    "ax.set_title('2 component PCA', fontsize = 20)\n",
    "targets = ['Iris-setosa', 'Iris-versicolor', 'Iris-virginica']\n",
    "colors = ['r', 'g', 'b']\n",
    "for target, color in zip(targets,colors):\n",
    "    indicesToKeep = finalDf['target'] == target\n",
    "    ax.scatter(finalDf.loc[indicesToKeep, 'principal component 1']\n",
    "               , finalDf.loc[indicesToKeep, 'principal component 2']\n",
    "               , c = color\n",
    "               , s = 50)\n",
    "ax.legend(targets)\n",
    "ax.grid()"
   ]
  },
  {
   "cell_type": "markdown",
   "id": "2071a8df",
   "metadata": {},
   "source": [
    "### 7.1 Explained Variance"
   ]
  },
  {
   "cell_type": "code",
   "execution_count": 24,
   "id": "c3c1e568",
   "metadata": {},
   "outputs": [
    {
     "data": {
      "text/plain": [
       "array([0.9195717 , 0.05707944])"
      ]
     },
     "execution_count": 24,
     "metadata": {},
     "output_type": "execute_result"
    }
   ],
   "source": [
    "#Looking at the explained Variance, we can see how accurate the model is,\n",
    "#after using dimentional reduction.\n",
    "#Results show that we keep 91% accuracy.\n",
    "pca.explained_variance_ratio_"
   ]
  },
  {
   "cell_type": "markdown",
   "id": "995de934",
   "metadata": {},
   "source": [
    "### 7.2 Standardize the data\n",
    "Now we need to transform the data, so values are closer together in value."
   ]
  },
  {
   "cell_type": "code",
   "execution_count": 25,
   "id": "d71b547d",
   "metadata": {},
   "outputs": [],
   "source": [
    "from sklearn.preprocessing import StandardScaler\n",
    "scaler = StandardScaler()\n",
    "# Fit on training set only.\n",
    "scaler.fit(x)\n",
    "# Apply transform to both the training set and the test set.\n",
    "train_iris = scaler.transform(x)\n",
    "test_iris = scaler.transform(x_test)"
   ]
  },
  {
   "cell_type": "markdown",
   "id": "2c6b1493",
   "metadata": {},
   "source": [
    "### 7.3 Fit the PCA on the training set."
   ]
  },
  {
   "cell_type": "code",
   "execution_count": 26,
   "id": "39740960",
   "metadata": {},
   "outputs": [],
   "source": [
    "from sklearn.decomposition import PCA\n",
    "# Make an instance of the Model, with minimum 95% variables contained.\n",
    "pca = PCA(.95)"
   ]
  },
  {
   "cell_type": "code",
   "execution_count": 27,
   "id": "8da27e5a",
   "metadata": {},
   "outputs": [
    {
     "data": {
      "text/plain": [
       "PCA(n_components=0.95)"
      ]
     },
     "execution_count": 27,
     "metadata": {},
     "output_type": "execute_result"
    }
   ],
   "source": [
    "pca.fit(x)"
   ]
  },
  {
   "cell_type": "markdown",
   "id": "fecc9e67",
   "metadata": {},
   "source": [
    "### 7.4 Apply the mapping (transform) to both the training set and the test set."
   ]
  },
  {
   "cell_type": "code",
   "execution_count": 36,
   "id": "3c53ad6a",
   "metadata": {},
   "outputs": [],
   "source": [
    "train_iris_pca = pca.transform(x)\n",
    "test_iris_pca = pca.transform(x_test)"
   ]
  },
  {
   "cell_type": "markdown",
   "id": "b00964b6",
   "metadata": {},
   "source": [
    "### 7.5 Applying forest regressor to the transformed data"
   ]
  },
  {
   "cell_type": "code",
   "execution_count": 37,
   "id": "6263166d",
   "metadata": {},
   "outputs": [],
   "source": [
    "#Now let's see it with a random forest regressor\n",
    "from sklearn.ensemble import RandomForestRegressor\n",
    "\n",
    "#Make an instance of the model\n",
    "forest_reg_pca = RandomForestRegressor()\n"
   ]
  },
  {
   "cell_type": "code",
   "execution_count": 39,
   "id": "dd1646c3",
   "metadata": {},
   "outputs": [
    {
     "data": {
      "text/plain": [
       "RandomForestRegressor()"
      ]
     },
     "execution_count": 39,
     "metadata": {},
     "output_type": "execute_result"
    }
   ],
   "source": [
    "#Training the model on the data\n",
    "forest_reg_pca.fit(train_iris_pca, y)"
   ]
  },
  {
   "cell_type": "code",
   "execution_count": 40,
   "id": "d7fab25a",
   "metadata": {},
   "outputs": [
    {
     "data": {
      "text/plain": [
       "array([[0., 1., 0.]])"
      ]
     },
     "execution_count": 40,
     "metadata": {},
     "output_type": "execute_result"
    }
   ],
   "source": [
    "#Prediction\n",
    "forest_reg_pca.predict(test_iris_pca[0].reshape(1,-1))"
   ]
  },
  {
   "cell_type": "markdown",
   "id": "f5ae81c0",
   "metadata": {},
   "source": [
    "### 7.6 Measuring model performance"
   ]
  },
  {
   "cell_type": "code",
   "execution_count": 32,
   "id": "7a2d2464",
   "metadata": {},
   "outputs": [
    {
     "name": "stdout",
     "output_type": "stream",
     "text": [
      "121 ms ± 24.1 ms per loop (mean ± std. dev. of 7 runs, 10 loops each)\n"
     ]
    }
   ],
   "source": [
    "#Let's test the model trained without PCA\n",
    "%timeit forest_reg.fit(train_iris, y)"
   ]
  },
  {
   "cell_type": "code",
   "execution_count": 33,
   "id": "73fd59af",
   "metadata": {},
   "outputs": [
    {
     "name": "stdout",
     "output_type": "stream",
     "text": [
      "114 ms ± 24.8 ms per loop (mean ± std. dev. of 7 runs, 10 loops each)\n"
     ]
    }
   ],
   "source": [
    "#Let's test the model trained without PCA\n",
    "%timeit forest_reg_pca.fit(train_iris_pca, y)"
   ]
  },
  {
   "cell_type": "markdown",
   "id": "589e1e0b",
   "metadata": {},
   "source": [
    "In theory, training the \"train_iris_pca\" should be much faster, in this case, we have not reduced our dimensions significantly, and the dataset i not that big."
   ]
  }
 ],
 "metadata": {
  "kernelspec": {
   "display_name": "Python 3 (ipykernel)",
   "language": "python",
   "name": "python3"
  },
  "language_info": {
   "codemirror_mode": {
    "name": "ipython",
    "version": 3
   },
   "file_extension": ".py",
   "mimetype": "text/x-python",
   "name": "python",
   "nbconvert_exporter": "python",
   "pygments_lexer": "ipython3",
   "version": "3.9.7"
  }
 },
 "nbformat": 4,
 "nbformat_minor": 5
}
