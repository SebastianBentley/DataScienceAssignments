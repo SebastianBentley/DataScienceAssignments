{
 "cells": [
  {
   "cell_type": "markdown",
   "id": "d138ced1",
   "metadata": {},
   "source": [
    "# Assignment 4 - Matrices\n",
    "*By Sebastian Bentley cph-sb287*\n"
   ]
  },
  {
   "cell_type": "code",
   "execution_count": 2,
   "id": "42d800b6",
   "metadata": {},
   "outputs": [],
   "source": [
    "#imports\n",
    "import numpy as np\n",
    "from numpy.linalg import inv\n",
    "import matplotlib.pyplot as plt\n"
   ]
  },
  {
   "cell_type": "markdown",
   "id": "629e46db",
   "metadata": {},
   "source": [
    "## Task 1"
   ]
  },
  {
   "cell_type": "code",
   "execution_count": 13,
   "id": "4d762da9",
   "metadata": {},
   "outputs": [
    {
     "name": "stdout",
     "output_type": "stream",
     "text": [
      "d)\n",
      "ABT:\n",
      "[[ 0 16]\n",
      " [20 56]]\n",
      "BTAT:\n",
      "[[ 0 16]\n",
      " [20 56]]\n",
      "Comparing them, we see that they are the same...\n"
     ]
    }
   ],
   "source": [
    "A = np.array([[3, 1],\n",
    "              [2, 6]])\n",
    "B = np.array([[-1, 4],\n",
    "              [3, 8]])\n",
    "\n",
    "#a)\n",
    "AT = A.T\n",
    "\n",
    "#b)\n",
    "BT = B.T\n",
    "\n",
    "#c)\n",
    "ABT = (A @ B).T\n",
    "BTAT = (B.T @ A.T)\n",
    "\n",
    "#d)\n",
    "print('d)\\nABT:\\n' + str(ABT) + '\\nBTAT:\\n' + str(BTAT))\n",
    "print('Comparing them, we see that they are the same...')\n",
    "\n",
    "#e)\n",
    "#This is the same as just A.\n",
    "e = (AT).T\n",
    "\n",
    "#f)\n",
    "f = (A @ AT)"
   ]
  },
  {
   "cell_type": "markdown",
   "id": "5481239c",
   "metadata": {},
   "source": [
    "__Transposition__ is flipping the matrix diagonally. in example: in A, finding AT means that values 3 and 6 remains in the same position. However, 1 and two switch their position."
   ]
  },
  {
   "cell_type": "markdown",
   "id": "2c472aa2",
   "metadata": {},
   "source": [
    "## Task 2"
   ]
  },
  {
   "cell_type": "code",
   "execution_count": 40,
   "id": "151c4837",
   "metadata": {},
   "outputs": [
    {
     "name": "stdout",
     "output_type": "stream",
     "text": [
      "AB with *:\n",
      "[[2 2]\n",
      " [9 8]]\n",
      "AB with @:\n",
      "[[ 5  8]\n",
      " [ 9 14]]\n",
      "The difference is, with * it multiplies the first value of A, with the first value of B. With @ we find the dot product.\n",
      "\n",
      "AB:\n",
      "[[ 5  8]\n",
      " [ 9 14]]\n",
      "\n",
      "BA:\n",
      "[[ 8  5]\n",
      " [18 11]]\n",
      "They are not identical, since matrix multiplication is not commutative.\n"
     ]
    }
   ],
   "source": [
    "A = np.array([[2, 1],\n",
    "              [3, 2]])\n",
    "\n",
    "B = np.array([[1, 2],\n",
    "              [3, 4]])\n",
    "\n",
    "#a)\n",
    "AB1 = A * B\n",
    "AB2 = A @ B\n",
    "print('AB with *:\\n' + str(AB1))\n",
    "print('AB with @:\\n' + str(AB2))\n",
    "print('The difference is, with * it multiplies the first value of A, with the first value of B. With @ we find the dot product.')\n",
    "\n",
    "#b)\n",
    "AB = A @ B\n",
    "BA = B @ A\n",
    "print('\\nAB:\\n' + str(AB))\n",
    "print('\\nBA:\\n' + str(BA))\n",
    "print('They are not identical, since matrix multiplication is not commutative.')\n"
   ]
  },
  {
   "cell_type": "markdown",
   "id": "858333c6",
   "metadata": {},
   "source": [
    "## Task 3"
   ]
  },
  {
   "cell_type": "code",
   "execution_count": 49,
   "id": "3676376b",
   "metadata": {},
   "outputs": [
    {
     "name": "stdout",
     "output_type": "stream",
     "text": [
      "[[1. 0.]\n",
      " [0. 1.]]\n",
      "[[1. 0.]\n",
      " [0. 1.]]\n",
      "[[1.00000000e+00 1.11022302e-16]\n",
      " [0.00000000e+00 1.00000000e+00]]\n",
      "[[1.0000000e+00 4.4408921e-16]\n",
      " [0.0000000e+00 1.0000000e+00]]\n"
     ]
    }
   ],
   "source": [
    "#a)\n",
    "invA = inv(A)\n",
    "\n",
    "#b)\n",
    "invB = inv(B)\n",
    "\n",
    "#c)\n",
    "invAA = A @ invA\n",
    "\n",
    "#d)\n",
    "invAA2 = invA @ A\n",
    "\n",
    "#e)\n",
    "invBB = B @ invB\n",
    "\n",
    "#f)\n",
    "invBB2 = invB @ B\n",
    "\n",
    "print(invAA)\n",
    "print(invAA2)\n",
    "print(invBB)\n",
    "print(invBB2)"
   ]
  },
  {
   "cell_type": "markdown",
   "id": "d6b9b342",
   "metadata": {},
   "source": [
    "Looking at the result, we see that a matrix multiplied with its inverse gives ([[1,0][0,1]]) (proof given in example).\n",
    "This is called an identity matrix."
   ]
  },
  {
   "cell_type": "markdown",
   "id": "9b264df6",
   "metadata": {},
   "source": [
    "## Task 4"
   ]
  },
  {
   "cell_type": "code",
   "execution_count": 54,
   "id": "a794e85d",
   "metadata": {},
   "outputs": [],
   "source": [
    "#a)\n",
    "A = np.array([[2, 4],\n",
    "              [1, 2]])\n",
    "#invA = inv(A)"
   ]
  },
  {
   "cell_type": "markdown",
   "id": "3c3cdf5b",
   "metadata": {},
   "source": [
    "Looking at the formula for inversion of a matrix, we see that in this example (2\\*2 - (-4)\\*(-1)) = 0, and we cannot divide by 0."
   ]
  },
  {
   "cell_type": "markdown",
   "id": "1afaf4fa",
   "metadata": {},
   "source": [
    "## Task 5\n",
    "*Inspired from __https://github.com/datsoftlyngby/soft2022spring-DS/blob/main/Code/E6-1-Matrices.ipynb__*"
   ]
  },
  {
   "cell_type": "code",
   "execution_count": 67,
   "id": "e2ad8380",
   "metadata": {},
   "outputs": [
    {
     "data": {
      "text/plain": [
       "<Figure size 432x288 with 0 Axes>"
      ]
     },
     "metadata": {},
     "output_type": "display_data"
    },
    {
     "data": {
      "image/png": "[encoded data removed]",
      "text/plain": [
       "<Figure size 432x288 with 1 Axes>"
      ]
     },
     "metadata": {
      "needs_background": "light"
     },
     "output_type": "display_data"
    }
   ],
   "source": [
    "# Create a vector image, store all coordinates in a matrix\n",
    "points = np.array([[0,1],[0,0],[3,0],[3,1],[0,1],[1.5,2],[3,1]])\n",
    "\n",
    "# Create a rotation matrix\n",
    "rot = np.array([[0.707, 0.707],[-0.707,0.707]])\n",
    "\n",
    "# Plot the matrix\n",
    "def img_plot(matrix, rot):\n",
    "    fig = plt.figure()\n",
    "    fig, ax = plt.subplots()\n",
    "    ax.axis('equal')\n",
    "    rotation = matrix @ rot\n",
    "    ax.plot(matrix[:,0], matrix[:,1],'-')\n",
    "    ax.plot(rotation[:,0], rotation[:,1],'-') \n",
    "    \n",
    "#Show the result\n",
    "img_plot(points, rot)\n"
   ]
  },
  {
   "cell_type": "markdown",
   "id": "ee1e3c0c",
   "metadata": {},
   "source": [
    "## Task 6"
   ]
  },
  {
   "cell_type": "code",
   "execution_count": 22,
   "id": "3443457c",
   "metadata": {},
   "outputs": [
    {
     "name": "stdout",
     "output_type": "stream",
     "text": [
      "Followers: [1 0 2 2 2]\n",
      "Most followers: 1\n",
      "Followerd by most: 2\n"
     ]
    }
   ],
   "source": [
    "matrix = np.array([[0,0,0,0,0],\n",
    "                   [1,0,1,0,0],\n",
    "                   [0,0,0,1,1],\n",
    "                   [0,0,0,0,1],\n",
    "                   [0,0,1,1,0]])\n",
    "\n",
    "#a)\n",
    "followers = np.sum(matrix, axis=0)\n",
    "print('Followers: ' + str(followers))\n",
    "\n",
    "#b)\n",
    "print('Most followers: ' + str(np.sum(matrix, axis=1).argmax(axis=0)))\n",
    "\n",
    "#c)\n",
    "print('Followerd by most: ' + str(np.sum(matrix, axis=0).argmax(axis=0)))\n",
    "\n",
    "#d)\n",
    "w_matrix = np.array([[0,0,0,0,0],\n",
    "                   [5,0,2,0,0],\n",
    "                   [0,0,0,1,2],\n",
    "                   [0,0,0,0,5],\n",
    "                   [0,0,2,5,0]])\n"
   ]
  }
 ],
 "metadata": {
  "kernelspec": {
   "display_name": "Python 3 (ipykernel)",
   "language": "python",
   "name": "python3"
  },
  "language_info": {
   "codemirror_mode": {
    "name": "ipython",
    "version": 3
   },
   "file_extension": ".py",
   "mimetype": "text/x-python",
   "name": "python",
   "nbconvert_exporter": "python",
   "pygments_lexer": "ipython3",
   "version": "3.9.7"
  }
 },
 "nbformat": 4,
 "nbformat_minor": 5
}
