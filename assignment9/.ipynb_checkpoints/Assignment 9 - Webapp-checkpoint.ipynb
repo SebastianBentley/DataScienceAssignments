{
 "cells": [
  {
   "cell_type": "markdown",
   "id": "fb029225",
   "metadata": {},
   "source": [
    "# create simple web application that can deploy and run the model as seen in class"
   ]
  },
  {
   "cell_type": "markdown",
   "id": "a0900a9e",
   "metadata": {},
   "source": [
    "### Load and Test the Model from a File"
   ]
  },
  {
   "cell_type": "code",
   "execution_count": 1,
   "id": "18ff0691",
   "metadata": {},
   "outputs": [],
   "source": [
    "import joblib\n",
    "msmodel = joblib.load('msmodel.pkl')"
   ]
  },
  {
   "cell_type": "code",
   "execution_count": 2,
   "id": "057a522f",
   "metadata": {},
   "outputs": [
    {
     "data": {
      "text/plain": [
       "array([1], dtype=int64)"
      ]
     },
     "execution_count": 2,
     "metadata": {},
     "output_type": "execute_result"
    }
   ],
   "source": [
    "my_prediction = msmodel.predict([[5.5,  6.5]])\n",
    "my_prediction"
   ]
  },
  {
   "cell_type": "markdown",
   "id": "d809701c",
   "metadata": {},
   "source": [
    "## Create flask web server"
   ]
  },
  {
   "cell_type": "code",
   "execution_count": 5,
   "id": "278ed5cb",
   "metadata": {},
   "outputs": [
    {
     "name": "stdout",
     "output_type": "stream",
     "text": [
      "Overwriting mswebapp.py\n"
     ]
    }
   ],
   "source": [
    "%%writefile mswebapp.py\n",
    "\n",
    "# Import libraries\n",
    "import numpy as np\n",
    "\n",
    "# from sklearn.externals \n",
    "import joblib\n",
    "import pickle\n",
    "from flask import Flask, request, jsonify, render_template\n",
    "\n",
    "# create an instance (our app)\n",
    "app = Flask(__name__)\n",
    "# app = Flask(__name__, template_folder='somefolder')\n",
    "\n",
    "msmodel = joblib.load('msmodel.pkl')\n",
    "\n",
    "@app.route('/', methods=['GET', 'POST'])\n",
    "\n",
    "@app.route('/hi/<name>')\n",
    "def hello(name = None):\n",
    "    return render_template('start.html', name=name)\n",
    "# name is parameter in the template: {{name}}\n",
    "\n",
    "@app.route('/predict')\n",
    "def predict():\n",
    "    return render_template('prediction.html')\n",
    "\n",
    "@app.route('/predicted', methods=['GET', 'POST'])\n",
    "def predicted():\n",
    "    if request.method == 'POST':\n",
    "        x1 = request.form['x1']\n",
    "        x2 = request.form['x2']\n",
    "        X = [[x1, x2]]\n",
    "        predicted = msmodel.predict(X)\n",
    "          \n",
    "        return render_template(\"predicted.html\", content=X, prediction=predicted)\n",
    "    \n",
    "@app.route('/bye')\n",
    "def bye():\n",
    "    return render_template('bye.html')\n",
    "\n",
    "if __name__ == '__main__':\n",
    "    app.run(debug=True)"
   ]
  },
  {
   "cell_type": "markdown",
   "id": "cadefeef",
   "metadata": {},
   "source": [
    "## Run the file (running on localhost:5000)"
   ]
  },
  {
   "cell_type": "code",
   "execution_count": null,
   "id": "5b6ba07c",
   "metadata": {},
   "outputs": [],
   "source": [
    "!python mswebapp.py"
   ]
  }
 ],
 "metadata": {
  "kernelspec": {
   "display_name": "Python 3 (ipykernel)",
   "language": "python",
   "name": "python3"
  },
  "language_info": {
   "codemirror_mode": {
    "name": "ipython",
    "version": 3
   },
   "file_extension": ".py",
   "mimetype": "text/x-python",
   "name": "python",
   "nbconvert_exporter": "python",
   "pygments_lexer": "ipython3",
   "version": "3.9.7"
  }
 },
 "nbformat": 4,
 "nbformat_minor": 5
}
